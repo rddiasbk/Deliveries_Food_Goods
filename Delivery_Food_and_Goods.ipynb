{
  "nbformat": 4,
  "nbformat_minor": 0,
  "metadata": {
    "colab": {
      "name": "Delivery Food and Goods.ipynb",
      "provenance": [],
      "collapsed_sections": [],
      "mount_file_id": "1nQWDvYEKffaHFGmHYeRdcOxCM9iVXqts",
      "authorship_tag": "ABX9TyPNy7FU/OjQepRc32mTF4bL",
      "include_colab_link": true
    },
    "kernelspec": {
      "name": "python3",
      "display_name": "Python 3"
    },
    "language_info": {
      "name": "python"
    }
  },
  "cells": [
    {
      "cell_type": "markdown",
      "metadata": {
        "id": "view-in-github",
        "colab_type": "text"
      },
      "source": [
        "<a href=\"https://colab.research.google.com/github/rddiasbk/Deliveries_Food_Goods/blob/main/Delivery_Food_and_Goods.ipynb\" target=\"_parent\"><img src=\"https://colab.research.google.com/assets/colab-badge.svg\" alt=\"Open In Colab\"/></a>"
      ]
    },
    {
      "cell_type": "markdown",
      "source": [
        "# <font color=darkblue size=05> Limpeza e formatação do dataset Delivery Center: Food & Goods orders in Brazil </font>\n",
        "disponível no [Kaggle](https://www.kaggle.com/datasets/nosbielcs/brazilian-delivery-center/)\n"
      ],
      "metadata": {
        "id": "vbD1eEb1RFu4"
      }
    },
    {
      "cell_type": "code",
      "source": [
        "#!pip install -- upgrade gspread"
      ],
      "metadata": {
        "id": "Mu6B9nII8uCp"
      },
      "execution_count": 1,
      "outputs": []
    },
    {
      "cell_type": "code",
      "source": [
        "import pandas as pd\n",
        "import numpy as np"
      ],
      "metadata": {
        "id": "h0U-IWzl-zQg"
      },
      "execution_count": 2,
      "outputs": []
    },
    {
      "cell_type": "markdown",
      "source": [
        "# Autorizando acesso necessário para acessar tabelas Google Sheet."
      ],
      "metadata": {
        "id": "Ha-1QnIbHf_w"
      }
    },
    {
      "cell_type": "code",
      "source": [
        "from google.colab import auth\n",
        "auth.authenticate_user()\n",
        "\n",
        "import gspread\n",
        "from google.auth import default\n",
        "creds, _ = default()\n",
        "\n",
        "gc = gspread.authorize(creds)"
      ],
      "metadata": {
        "id": "L5h0rmua9M7I"
      },
      "execution_count": 3,
      "outputs": []
    },
    {
      "cell_type": "code",
      "execution_count": 4,
      "metadata": {
        "id": "1Gpvb0IXEyao"
      },
      "outputs": [],
      "source": [
        "spreadsheet_channels = gc.open('channels')\n",
        "spreadsheet_deliveries = gc.open('deliveries')\n",
        "spreadsheet_drivers = gc.open('drivers')\n",
        "spreadsheet_hubs = gc.open('hubs')\n",
        "spreadsheet_payments = gc.open('payments')\n",
        "spreadsheet_stores = gc.open('stores')"
      ]
    },
    {
      "cell_type": "markdown",
      "source": [
        "# Definindo as abas do arquivo aberto."
      ],
      "metadata": {
        "id": "J4bgBS52HvOb"
      }
    },
    {
      "cell_type": "code",
      "source": [
        "worksheet_channels = spreadsheet_channels.sheet1\n",
        "worksheet_deliveries = spreadsheet_deliveries.sheet1\n",
        "worksheet_drivers = spreadsheet_drivers.sheet1\n",
        "worksheet_hubs = spreadsheet_hubs.sheet1\n",
        "worksheet_payments = spreadsheet_payments.sheet1\n",
        "worksheet_stores = spreadsheet_stores.sheet1"
      ],
      "metadata": {
        "id": "jduPnpUbBSLd"
      },
      "execution_count": 5,
      "outputs": []
    },
    {
      "cell_type": "code",
      "source": [
        "df_channels = pd.DataFrame(worksheet_channels.get_all_records())\n",
        "df_deliveries = pd.DataFrame(worksheet_deliveries.get_all_records())\n",
        "df_drivers = pd.DataFrame(worksheet_drivers.get_all_records())\n",
        "df_hubs = pd.DataFrame(worksheet_hubs.get_all_records())\n",
        "df_payments = pd.DataFrame(worksheet_payments.get_all_records())\n",
        "df_stores = pd.DataFrame(worksheet_stores.get_all_records())"
      ],
      "metadata": {
        "id": "nA3V4RI3-hN8"
      },
      "execution_count": 6,
      "outputs": []
    },
    {
      "cell_type": "code",
      "source": [
        "df_orders = pd.read_csv('/content/drive/MyDrive/Dados-Datas/Delivery/orders.csv')"
      ],
      "metadata": {
        "id": "6asO8hLmUvSe"
      },
      "execution_count": 84,
      "outputs": []
    },
    {
      "cell_type": "markdown",
      "source": [
        "# Compilando todas as tabelas."
      ],
      "metadata": {
        "id": "35r-uUDNH3VQ"
      }
    },
    {
      "cell_type": "code",
      "source": [
        "df1 = pd.merge(df_orders, df_payments, how = 'right', on = 'payment_order_id')\n",
        "places = pd.merge(df_hubs, df_stores, how = 'left', on = 'hub_id')#12 colunas\n",
        "df2 = pd.merge(places, df1, left_on = 'store_id', right_on = 'store_id') # 40 colunas (-2 id = ok)\n",
        "drivers_deliveries = pd.merge(df_drivers, df_deliveries, how = 'left', on = 'driver_id')\n",
        "df3 = pd.merge(drivers_deliveries, df2,how = 'left',on = 'delivery_order_id')"
      ],
      "metadata": {
        "id": "b-5KKf5wDKy6"
      },
      "execution_count": 85,
      "outputs": []
    },
    {
      "cell_type": "code",
      "source": [
        "df = pd.merge(df3, df_channels,how = 'left', on ='channel_id')\n",
        "#CERTO - 53 LINHAS"
      ],
      "metadata": {
        "id": "35LWAuPdMRsL"
      },
      "execution_count": 102,
      "outputs": []
    },
    {
      "cell_type": "markdown",
      "source": [
        "# A tabela compilada conta com 414.668 linhas e 53 colunas."
      ],
      "metadata": {
        "id": "r2Aj6MmzICFw"
      }
    },
    {
      "cell_type": "code",
      "source": [
        "df.shape #(414668, 53)"
      ],
      "metadata": {
        "colab": {
          "base_uri": "https://localhost:8080/"
        },
        "id": "x-oWvJKD2ys7",
        "outputId": "598821e5-55f5-441d-9662-ddf2a92e6fe1"
      },
      "execution_count": 103,
      "outputs": [
        {
          "output_type": "execute_result",
          "data": {
            "text/plain": [
              "(414668, 53)"
            ]
          },
          "metadata": {},
          "execution_count": 103
        }
      ]
    },
    {
      "cell_type": "markdown",
      "source": [
        "##Checando dados nulos"
      ],
      "metadata": {
        "id": "MrPAYkiMvR6P"
      }
    },
    {
      "cell_type": "markdown",
      "source": [
        "##1. Verificar qual a quantidade dados NaN\n"
      ],
      "metadata": {
        "id": "jYNtsstt5X1I"
      }
    },
    {
      "cell_type": "code",
      "source": [
        "df.isnull().sum()"
      ],
      "metadata": {
        "id": "kIJKlVZFSalK"
      },
      "execution_count": null,
      "outputs": []
    },
    {
      "cell_type": "markdown",
      "source": [
        "**Observação:** Investiguei a presença de dados duplicados (`df.col.nunique())`entretanto optei mantê-los pois trazem informações complementares. \n",
        "Por exemplo, eliminar dados duplicados utilizando `order_id` afetaria informações de pagamento, pois há pagamentos diferentes (vouchers) para o mesmo pedido."
      ],
      "metadata": {
        "id": "aTMLE-SfIRDA"
      }
    },
    {
      "cell_type": "code",
      "source": [
        "null_cols = [x for x in df.columns if df[x].isnull().sum() >= 1]\n",
        "for x in null_cols:\n",
        "    print(f\"{x}:\", \"contém\", np.round(df[x].isnull().mean() * 100, 2),\n",
        "          '% dos dados nulos', 'e um total de',\n",
        "          np.round(df[x].isnull().sum(), 4,), \"linhas afetadas\")"
      ],
      "metadata": {
        "id": "4sqnjU0Fxlvf"
      },
      "execution_count": null,
      "outputs": []
    },
    {
      "cell_type": "markdown",
      "source": [
        "Excluindo as colunas relacionadas a data do pedido e mantendo apenas coluna de criação do pedido."
      ],
      "metadata": {
        "id": "T8NeLcMI8zdZ"
      }
    },
    {
      "cell_type": "code",
      "source": [
        "colunas = ['order_created_hour','order_created_minute',\n",
        "            'order_created_day','order_created_month',\n",
        "            'order_created_year']\n",
        "           \n",
        "df.drop(columns = colunas, axis = 1, inplace = True)"
      ],
      "metadata": {
        "id": "wYT30uah87_H"
      },
      "execution_count": 106,
      "outputs": []
    },
    {
      "cell_type": "markdown",
      "source": [
        "### Removendo a coluna `order_moment_delivered`\n",
        "* Pois os pedidos são mais finalizados do que assinalados como entregues, embora seja uma informação que traria mais uma possibilidade de análise quanto a diferença entre produtos entregues e vendas finalizadas, há mais de 90% de dados vazios, portanto justificando a exclusão."
      ],
      "metadata": {
        "id": "_2OAi8p23T66"
      }
    },
    {
      "cell_type": "code",
      "source": [
        "df.drop(columns = 'order_moment_delivered', inplace = True)"
      ],
      "metadata": {
        "id": "nuLtT0Sg2TqU"
      },
      "execution_count": 107,
      "outputs": []
    },
    {
      "cell_type": "markdown",
      "source": [
        "##Preenchendo os valores nulos da `order_amount` com a média dos valores da própria coluna."
      ],
      "metadata": {
        "id": "Mp35ALea1Qs0"
      }
    },
    {
      "cell_type": "code",
      "source": [
        "df['order_amount'].fillna(df['order_amount'].mean(), inplace = True)"
      ],
      "metadata": {
        "id": "MrOmRroN1L_G"
      },
      "execution_count": 108,
      "outputs": []
    },
    {
      "cell_type": "markdown",
      "source": [
        "##Preenchendo os valores nulos da `order_delivery_fee` com a média dos valores da própria coluna."
      ],
      "metadata": {
        "id": "1xre_aR90vg9"
      }
    },
    {
      "cell_type": "code",
      "source": [
        "df['order_delivery_fee'].fillna(df['order_delivery_fee'].mean(), inplace = True)"
      ],
      "metadata": {
        "id": "O3bXh9s20g8c"
      },
      "execution_count": 109,
      "outputs": []
    },
    {
      "cell_type": "markdown",
      "source": [
        "##Atribuindo o valor \"Não Informado\" a coluna `order_status`\n",
        "\n",
        "\n"
      ],
      "metadata": {
        "id": "W210UaSi10PF"
      }
    },
    {
      "cell_type": "code",
      "source": [
        "df['order_status'].fillna('NÃO INFORMADO', inplace = True)\n"
      ],
      "metadata": {
        "id": "kwLgCsNl1zPm"
      },
      "execution_count": 110,
      "outputs": []
    },
    {
      "cell_type": "markdown",
      "source": [
        "###Atribuindo valores “não informados” a coluna `delivery_status`."
      ],
      "metadata": {
        "id": "czExwzmV46DJ"
      }
    },
    {
      "cell_type": "code",
      "source": [
        "df['delivery_status'].fillna('NÃO INFORMADO', inplace = True)"
      ],
      "metadata": {
        "id": "3m6m8ns045nS"
      },
      "execution_count": 111,
      "outputs": []
    },
    {
      "cell_type": "markdown",
      "source": [
        "# Alterando colunas do pedido para o tipo data"
      ],
      "metadata": {
        "id": "pnsH4WZa-5Va"
      }
    },
    {
      "cell_type": "code",
      "source": [
        "colunas_datas = ['order_moment_created',\n",
        "'order_moment_accepted',\n",
        "'order_moment_ready',\n",
        "'order_moment_collected',\n",
        "'order_moment_in_expedition',\n",
        "'order_moment_delivering',\n",
        "'order_moment_finished']\n",
        "\n",
        "for colunas in colunas_datas:\n",
        "    df[colunas] = df[colunas].astype('datetime64[ns]')"
      ],
      "metadata": {
        "id": "MiH5a8vQ-4w8"
      },
      "execution_count": 121,
      "outputs": []
    },
    {
      "cell_type": "code",
      "source": [
        "df.columns"
      ],
      "metadata": {
        "colab": {
          "base_uri": "https://localhost:8080/"
        },
        "id": "manyDwLOHVSr",
        "outputId": "8731bfce-079f-41a4-bd05-3b713385430e"
      },
      "execution_count": 125,
      "outputs": [
        {
          "output_type": "execute_result",
          "data": {
            "text/plain": [
              "Index(['driver_id', 'driver_modal', 'driver_type', 'delivery_id',\n",
              "       'delivery_order_id', 'delivery_distance_meters', 'delivery_status',\n",
              "       'hub_id', 'hub_name', 'hub_city', 'hub_state', 'hub_latitude',\n",
              "       'hub_longitude', 'store_id', 'store_name', 'store_segment',\n",
              "       'store_plan_price', 'store_latitude', 'store_longitude', 'order_id',\n",
              "       'channel_id', 'payment_order_id', 'order_status', 'order_amount',\n",
              "       'order_delivery_fee', 'order_delivery_cost', 'order_moment_created',\n",
              "       'order_moment_accepted', 'order_moment_ready', 'order_moment_collected',\n",
              "       'order_moment_in_expedition', 'order_moment_delivering',\n",
              "       'order_moment_finished', 'order_metric_collected_time',\n",
              "       'order_metric_paused_time', 'order_metric_production_time',\n",
              "       'order_metric_walking_time', 'order_metric_expediton_speed_time',\n",
              "       'order_metric_transit_time', 'order_metric_cycle_time', 'payment_id',\n",
              "       'payment_amount', 'payment_fee', 'payment_method', 'payment_status',\n",
              "       'channel_name', 'channel_type'],\n",
              "      dtype='object')"
            ]
          },
          "metadata": {},
          "execution_count": 125
        }
      ]
    },
    {
      "cell_type": "code",
      "source": [
        "#df.to_csv('deliveries_cleaned')"
      ],
      "metadata": {
        "id": "DYpogAD9dMAx"
      },
      "execution_count": 124,
      "outputs": []
    },
    {
      "cell_type": "markdown",
      "source": [
        ""
      ],
      "metadata": {
        "id": "6VqJ4fZR1nYL"
      }
    }
  ]
}